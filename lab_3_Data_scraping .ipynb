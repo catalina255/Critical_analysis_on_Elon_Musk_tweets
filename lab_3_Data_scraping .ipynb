{
 "cells": [
  {
   "cell_type": "code",
   "execution_count": null,
   "id": "c3d349e0",
   "metadata": {},
   "outputs": [],
   "source": [
    "import pandas as pd"
   ]
  },
  {
   "cell_type": "code",
   "execution_count": 69,
   "id": "7d624551",
   "metadata": {},
   "outputs": [],
   "source": [
    "import requests"
   ]
  },
  {
   "cell_type": "code",
   "execution_count": 70,
   "id": "1c930b0b",
   "metadata": {},
   "outputs": [],
   "source": [
    "from bs4 import BeautifulSoup"
   ]
  },
  {
   "cell_type": "code",
   "execution_count": 134,
   "id": "7c9310b8",
   "metadata": {},
   "outputs": [],
   "source": [
    "response = requests.get(\"https://genius.com/Depeche-mode-enjoy-the-silence-lyrics\")\n",
    "html_str = response.text\n",
    "\n",
    "document = BeautifulSoup(html_str, \"html.parser\")"
   ]
  },
  {
   "cell_type": "code",
   "execution_count": 135,
   "id": "a799111a",
   "metadata": {},
   "outputs": [
    {
     "data": {
      "text/plain": [
       "'\\n\\n\\nDepeche\\xa0Mode – Enjoy the Silence Lyrics | Genius Lyrics\\n\\n\\n\\n\\n\\n\\n\\n\\n\\n\\n\\n\\n\\n\\n\\n\\n\\n\\n\\n\\n\\n\\n\\n\\n\\n\\n\\n\\n\\n\\n\\n\\n\\n\\n\\n\\n\\n\\n\\n\\n\\n\\n\\n\\n\\n\\n\\n\\n\\n\\n\\n\\n\\n\\n\\n\\n\\n\\n\\n\\n\\nFeaturedChartsVideosPromote Your MusicSign UpEnjoy the SilenceDepeche ModeTrack 6 on\\xa0Violator\\xa0“Enjoy The Silence” is Depeche Mode’s highest charting song in the US and one of several top ten hits in their homeland the UK. It won “Best British Single” at the 1991… Read More\\xa0Produced byFlood & Depeche ModeRelease DateFebruary 5, 1990View All Credits\\xa01334.2K3958Enjoy the Silence Lyrics[Verse 1]Words like violence break the silenceCome crashing in into my little worldPainful to me, pierce right through meCan\\'t you understand? Oh, my little girl[Chorus]All I ever wantedAll I ever needed is here in my armsWords are very unnecessaryThey can only do harm[Interlude][Verse 2]Vows are spoken to be brokenFeelings are intense, words are trivialPleasures remain, so does the painWords are meaningless and forgettable[Chorus]All I ever wantedAll I ever needed is here in my armsWords are very unnecessaryThey can only do harm[Interlude][Chorus]All I ever wantedAll I ever needed is here in my armsWords are very unnecessaryThey can only do harmAll I ever wantedAll I ever needed is here in my armsWords are very unnecessaryThey can only do harmYou might also like[Interlude][Outro]Enjoy the silence58EmbedCancelHow to Format Lyrics:Type out all lyrics, even repeating song parts like the chorusLyrics should be broken down into individual linesUse section headers above different song parts like [Verse], [Chorus], etc.Use italics (<i>lyric</i>) and bold (<b>lyric</b>) to distinguish between different vocalists in the same song partIf you don’t understand a lyric, use [?]To learn more, check out our transcription guide or visit our transcribers forumAboutGenius Annotation4 contributors“Enjoy The Silence” is Depeche Mode’s highest charting song in the US and one of several top ten hits in their homeland the UK. It won “Best British Single” at the 1991 Brit Awards.\\nIn 2010, Pitchfork placed it at #15 on their Top 200 Tracks of the 1990s. Rolling Stone described it as “sensually serene”.\\nRolling Stone placed the song in the 415th place of the 500 best songs of all time, quoting the making of the song:\\nIt was kind of half a song,” Gahan said. “And Alan and Flood, who was producing the album, had this idea to put a beat to it.” When Martin Gore added the guitar, that was it.\\nVocalist Dave Gahan explained that “Enjoy The Silence” began as a “very slow, ballad-y couple of verses” but bandmate Alan Wilder and producer Flood converted it into the danceable new wave hit it became. At first, songwriter Martin Gore was initially not on board with the uptempo rewrite.\\nI thought the very nature of the song was, you know, enjoy the silence, so it ought to have a very serene atmosphere. It took me a while to get used to the idea, but as we took it further that way with the guitar riff, it really pulled together.Expand +141ShareAsk us a question about this songAsk a question *\\u200cAre there differences between the album and single versions of the song?Genius Answer1 contributorYes, and no. The single version is 4:15, compared to the album length of 6:12. However, aside from the additional acapella outro on the album version, the 2 versions are the same.\\nOn the album, the 2 minutes following the outro are actually the hidden track “Interlude #2 (Crucified)”.\\nAdditionally, the video features another version of the song with an extended intro (available to listen to at the bottom of this page), which is essentially the instrumental of the song’s outro stripped back.What have the artists said about the song?Genius Answer2 contributorsDave Gahan declared in an interview for Entertainment Weekly in March 2017:\\nFunny enough, when Martin first came up with a demo for ‘Silence,’ it was kind of half a song. Just a piano and these very slow, ballad-y couple of verses. And Alan [Wilder] and Flood, who was producing the album, had this idea to put a beat to it. They said, ‘Get out of the studio and come back in two days.’ When we came back, Flood said to Martin, ‘I need you to come up with a guitar line,’ so Martin started to play this riff, and that was it. Then he said ‘Dave, go sing,’ and I did. We literally recorded it in a couple of days. Then we started messing with the song, trying to make it more than it was, and it never needed more. We put it out like that, and I think we knew between us that there was something very special about it, but we had no idea what a huge hit it was going to be.\\nAlan Wilder recalled:\\nStrangely, the thing that immediately came to mind was that I could hear Neil Tennant singing it in my head. Something about the line “All I ever wanted” sounded very hamster…..er…. Pet Shop to me. Most DM songs changed tempo to some degree from the original demo although none I can think of have been that extreme.\\nMartin’s demos always had a complete set of lyrics but musically they varied from sometimes being quite detailed to sometimes very simplistic. I felt that to have taken the simple ballad approach for this song would have been to criminally pass on it’s massive commercial potential. It was a great tune crying out for the kind of treatment it eventually got. Flood and I worked on the backing track before calling Martin in to play the guitar riff. As the track came together, I think it dawned on everyone (even Martin, who had been the most reluctant about taking the up-tempo route) that we had a hit on our hands.What is the meaning of the music video?Genius Answer2 contributorsDave Gahan declared in an interview for Entertainment Weekly in March 2017:\\nAnton (Corbijn) came to me — he’s Dutch you know — and said, ‘So Dave, I have an idea. You’re gonna wear a crown. You’re this king walking everywhere, and you’re gonna carry a deck chair…’ And I didn’t get it at all. But once we started and he showed me the footage I got what he was doing: The man who has everything, but really feels nothing. And we were in such remote places — like, five miles up in the Alps walking in the snow, in the Algarve in Portugal on these remote beaches, at Balmoral in Scotland, where we could walk for days and days and not see anyone.WHAT IS THIS SONG ALL ABOUTViolator (1990)Depeche Mode1. World in My Eyes2. Sweetest Perfection3. Personal Jesus4. Halo5. Waiting for the Night6. Enjoy the Silence7. Interlude #2 (Crucified)8. Policy of Truth9. Blue Dress10. Interlude #311. CleanExpand CreditsProduced ByFlood & Depeche ModeWritten ByMartin L. GorePhonographic Copyright ℗Sire Records & Venusnote Ltd.Copyright ©Sire Records & Venusnote Ltd.Licensed BySony Music EntertainmentDesignArea (Graphic Designers) & Anton CorbijnAdditional EngineeringRoger Johnson, Kevin Paul & Kevin VanbergenRemastering EngineerSimon HeyworthAdditional MixingKevin PaulVocalsDave GahanBackground VocalsAlan Wilder, Andy Fletcher & Martin L. GoreKeyboardsAlan Wilder, Andy Fletcher & Martin L. GoreDrum ProgrammerAlan WilderGuitarMartin L. GorePublisherGrabbing Hands Music Ltd. & EMI Music Publishing GroupEngineerAlan Gregorie, P. Dennis Mitchell, Goh Hotoda, Peter Iversen, Phil Legg, Pino “Pinaxa” Pischetola & Steve LyonAssistant EngineerRicky (Engineer), Daryl Bamonte, David Browne, Dick Meaney & Mark FlanneryMixing EngineerPhil Legg, Flood & Daniel MillerRecorded AtPuk Studios, Gjerlev, DenmarkRelease DateFebruary 5, 1990Enjoy the Silence SamplesStone by\\xa0RecoilSongs That Sample Enjoy the SilenceDEMENTIA by\\xa0Sorrowforever, Torn Apart by\\xa0Bukshot\\xa0& Kung Fu Vampire (Ft.\\xa0David\\xa0Ray) & The Silence by\\xa0Mike\\xa0KoglinSongs That Interpolate Enjoy the SilenceAll By Myself by\\xa0Alok,\\xa0Sigala & Ellie Goulding & Enjoy The Silence (Instrumental) by\\xa0Ki:TheoryEnjoy the Silence CoversEnjoy the Silence by\\xa0Swift\\xa0(Band), Enjoy the Silence by\\xa0Squealer, Enjoy the Silence by\\xa0Carla\\xa0Bruni, Enjoy the Silence by\\xa0Susanna\\xa0and the Magical Orchestra & Susanna, \\u200benjoy the silence by\\xa0Fousheé, Enjoy the Silence by\\xa0Vitamin\\xa0String Quartet, Enjoy the Silence by\\xa0Eithel\\xa0Fuin, Enjoy the Silence by\\xa0Nina\\xa0June, Enjoy the Silence (Tango Mix) by\\xa0Tanghetto, Enjoy The Silence by\\xa0William\\xa0Control, Enjoy the Silence by\\xa0Gregorian, Enjoy the Silence (re:imagined) by\\xa0Denmark\\xa0+ Winter, Enjoy the Silence [Live 2007] by\\xa0Lacuna\\xa0Coil, Enjoy the Silence [Live 2018] by\\xa0Lacuna\\xa0Coil, Enjoy the Silence by\\xa0It\\xa0Dies Today, Enjoy the Silence by\\xa0Failure, Enjoy the Silence by\\xa0Anberlin, Enjoy the Silence by\\xa0Easyworld, Enjoy the silence by\\xa0The\\xa0Family Rain, Enjoy the Silence by\\xa0Matthew\\xa0Good Band, Enjoy the Silence by\\xa0Nada\\xa0Surf, Enjoy the Silence by\\xa0Breaking\\xa0Benjamin, Enjoy the Silence by\\xa0Ki:Theory, Enjoy the Silence by\\xa0Lacuna\\xa0Coil, Enjoy the Silence by\\xa0Tori\\xa0Amos & Enjoy The Silence by\\xa0KeaneEnjoy the Silence RemixesEnjoy the Silence [Instrumental] by\\xa0Depeche\\xa0Mode, Enjoy the Silence [Video Mix] by\\xa0Depeche\\xa0Mode, Enjoy the Silence (Ewan Pearson Extended Instrumental) by\\xa0Depeche\\xa0Mode, Enjoy the Silence (Richard X Mix) by\\xa0Depeche\\xa0Mode, Enjoy the Silence (The Quad: Final Mix) by\\xa0Depeche\\xa0Mode, Enjoy the Silence (Ricki Tik Tik Mix) by\\xa0Depeche\\xa0Mode, Enjoy the Silence (Harmonium Mix) by\\xa0Depeche\\xa0Mode, Enjoy the Silence (Bass Line Mix) by\\xa0Depeche\\xa0Mode, Enjoy the Silence (Ecstatic Dub) [Edit] by\\xa0Depeche\\xa0Mode, Enjoy the Silence (Hands and Feet Mix) [3\" Edit] by\\xa0Depeche\\xa0Mode, Interlude #2 (Crucified) by\\xa0Depeche\\xa0Mode, Enjoy the Silence (Reinterpreted) by\\xa0Depeche\\xa0Mode & Enjoy the Silence (Timo Maas Extended Remix) by\\xa0Depeche\\xa0ModeEnjoy the Silence Live PerformancesEnjoy the Silence (Live) [Dodger Stadium, Los Angeles, USA - 1990/08/04] by\\xa0Depeche\\xa0Mode, Enjoy The Silence (Live) [Barcelona, Palau Sant Jordi, Spain - 2009/11/21] by\\xa0Depeche\\xa0Mode, Enjoy the Silence [Live in Milan, FilaForum di Assago - 2006/02/19] by\\xa0Depeche\\xa0Mode, Enjoy the Silence (Live) [Berlin, Waldbühne, Germany - 2018/07/25] by\\xa0Depeche\\xa0Mode, Enjoy The Silence (Live) [Berlin, O2 World, Germany - 2013/11/27] by\\xa0Depeche\\xa0Mode, Enjoy the Silence (Live) [Paris 10/10/01] by\\xa0Depeche\\xa0Mode & Enjoy the SIlence (Live) [Liévin 29/7/93] by\\xa0Depeche\\xa0ModeView Enjoy the Silence samplesTagsRockPopBritish RockAlternative RockDance RockDance-PopDanceAlternative PopNinetiesAdult AlternativeAlternative DancePop-RockUKAlternativeDark WaveSynth-PopExpand CommentsSign Up And Drop Knowledge 🤓Genius is the ultimate source of music knowledge, created by scholars like you who share facts and insight about the songs and artists they love.Sign UpGenius is the world’s biggest collection of song lyrics and musical knowledgeAbout GeniusContributor GuidelinesPressShopAdvertiseEvent SpacePrivacy PolicyPrivacy PreferencesLicensingJobsDevelopersCopyright PolicyContact UsSign InDo Not Sell My Personal Information© 2022 ML Genius Holdings, LLCTerms of UseVerified ArtistsAll Artists:abcdefghijklmnopqrstuvwxyz#Hot Songs:Creepin’RM - 들꽃놀이 (Wild Flower) ft. youjeen (English Translation)The Twelve Days of ChristmasRM - Yun ft.  Erykah Badu (English Translation)RM - No.2 ft. Park Ji Yoon (English Translation)View All\\n\\n\\n\\n\\n\\n\\n\\n\\n\\n\\n\\n\\n\\n\\n\\n\\n\\n\\n\\n'"
      ]
     },
     "execution_count": 135,
     "metadata": {},
     "output_type": "execute_result"
    }
   ],
   "source": [
    "document.text"
   ]
  },
  {
   "cell_type": "code",
   "execution_count": 152,
   "id": "8f488593",
   "metadata": {},
   "outputs": [
    {
     "data": {
      "text/plain": [
       "'Depeche Mode'"
      ]
     },
     "execution_count": 152,
     "metadata": {},
     "output_type": "execute_result"
    }
   ],
   "source": [
    "artist = document.findAll('a', {'class': 'Link__StyledLink-h3isu4-0 PcIZE SongHeaderdesktop__Artist-sc-1effuo1-11 fPVhsa'})\n",
    "artist_name = artist[0].text\n",
    "artist_name"
   ]
  },
  {
   "cell_type": "code",
   "execution_count": 153,
   "id": "bab16cfc",
   "metadata": {},
   "outputs": [
    {
     "name": "stdout",
     "output_type": "stream",
     "text": [
      "Enjoy the Silence\n"
     ]
    }
   ],
   "source": [
    "song_title = document.find('h1').text\n",
    "print(song_title)"
   ]
  },
  {
   "cell_type": "code",
   "execution_count": 161,
   "id": "00a6adee",
   "metadata": {},
   "outputs": [
    {
     "name": "stdout",
     "output_type": "stream",
     "text": [
      "[\"[Verse 1]Words like violence break the silenceCome crashing in into my little worldPainful to me, pierce right through meCan't you understand? Oh, my little girl[Chorus]All I ever wantedAll I ever needed is here in my armsWords are very unnecessaryThey can only do harm[Interlude][Verse 2]Vows are spoken to be brokenFeelings are intense, words are trivialPleasures remain, so does the painWords are meaningless and forgettable[Chorus]All I ever wantedAll I ever needed is here in my armsWords are very unnecessaryThey can only do harm[Interlude][Chorus]All I ever wantedAll I ever needed is here in my armsWords are very unnecessaryThey can only do harmAll I ever wantedAll I ever needed is here in my armsWords are very unnecessaryThey can only do harm\\n\", '[Interlude][Outro]Enjoy the silence\\n']\n"
     ]
    }
   ],
   "source": [
    "lyrics = document.findAll('div', {'class': 'Lyrics__Container-sc-1ynbvzw-6 YYrds'})\n",
    "lyrics_list = []\n",
    "for lyric in lyrics:\n",
    "    lyrics_list.append(lyric.text + '\\n')\n",
    "print(lyrics_list)"
   ]
  },
  {
   "cell_type": "code",
   "execution_count": 165,
   "id": "b9c702a3",
   "metadata": {},
   "outputs": [
    {
     "data": {
      "text/html": [
       "<div>\n",
       "<style scoped>\n",
       "    .dataframe tbody tr th:only-of-type {\n",
       "        vertical-align: middle;\n",
       "    }\n",
       "\n",
       "    .dataframe tbody tr th {\n",
       "        vertical-align: top;\n",
       "    }\n",
       "\n",
       "    .dataframe thead th {\n",
       "        text-align: right;\n",
       "    }\n",
       "</style>\n",
       "<table border=\"1\" class=\"dataframe\">\n",
       "  <thead>\n",
       "    <tr style=\"text-align: right;\">\n",
       "      <th></th>\n",
       "      <th>0</th>\n",
       "    </tr>\n",
       "  </thead>\n",
       "  <tbody>\n",
       "    <tr>\n",
       "      <th>Artist</th>\n",
       "      <td>Depeche Mode</td>\n",
       "    </tr>\n",
       "    <tr>\n",
       "      <th>Song</th>\n",
       "      <td>Enjoy the Silence</td>\n",
       "    </tr>\n",
       "    <tr>\n",
       "      <th>Lyrics</th>\n",
       "      <td>[[Verse 1]Words like violence break the silenc...</td>\n",
       "    </tr>\n",
       "  </tbody>\n",
       "</table>\n",
       "</div>"
      ],
      "text/plain": [
       "                                                        0\n",
       "Artist                                       Depeche Mode\n",
       "Song                                    Enjoy the Silence\n",
       "Lyrics  [[Verse 1]Words like violence break the silenc..."
      ]
     },
     "execution_count": 165,
     "metadata": {},
     "output_type": "execute_result"
    }
   ],
   "source": [
    "data = [artist_name, song_title, lyrics_list]\n",
    "df = pd.DataFrame(data,['Artist', 'Song', 'Lyrics'])\n",
    "df"
   ]
  },
  {
   "cell_type": "code",
   "execution_count": null,
   "id": "490d3d03",
   "metadata": {},
   "outputs": [],
   "source": []
  }
 ],
 "metadata": {
  "kernelspec": {
   "display_name": "Python 3 (ipykernel)",
   "language": "python",
   "name": "python3"
  },
  "language_info": {
   "codemirror_mode": {
    "name": "ipython",
    "version": 3
   },
   "file_extension": ".py",
   "mimetype": "text/x-python",
   "name": "python",
   "nbconvert_exporter": "python",
   "pygments_lexer": "ipython3",
   "version": "3.9.13"
  }
 },
 "nbformat": 4,
 "nbformat_minor": 5
}
